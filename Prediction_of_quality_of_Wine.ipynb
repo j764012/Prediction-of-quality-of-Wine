{
  "nbformat": 4,
  "nbformat_minor": 0,
  "metadata": {
    "colab": {
      "provenance": [],
      "gpuType": "A100",
      "authorship_tag": "ABX9TyNF7wEaFlFLSB994m/DCyg8",
      "include_colab_link": true
    },
    "kernelspec": {
      "name": "python3",
      "display_name": "Python 3"
    },
    "language_info": {
      "name": "python"
    }
  },
  "cells": [
    {
      "cell_type": "markdown",
      "metadata": {
        "id": "view-in-github",
        "colab_type": "text"
      },
      "source": [
        "<a href=\"https://colab.research.google.com/github/j764012/Prediction-of-quality-of-Wine/blob/main/Prediction_of_quality_of_Wine.ipynb\" target=\"_parent\"><img src=\"https://colab.research.google.com/assets/colab-badge.svg\" alt=\"Open In Colab\"/></a>"
      ]
    },
    {
      "cell_type": "markdown",
      "source": [
        "# data preprocessing"
      ],
      "metadata": {
        "id": "uPHc9zz2_a8D"
      }
    },
    {
      "cell_type": "code",
      "execution_count": 1,
      "metadata": {
        "id": "79y9iflpDqif"
      },
      "outputs": [],
      "source": [
        "import pandas as pd\n",
        "df = pd.read_csv('https://raw.githubusercontent.com/aniruddhachoudhury/Red-Wine-Quality/master/winequality-red.csv')"
      ]
    },
    {
      "cell_type": "code",
      "source": [
        "df.head()"
      ],
      "metadata": {
        "colab": {
          "base_uri": "https://localhost:8080/",
          "height": 285
        },
        "id": "jBku9eRBFTJR",
        "outputId": "c27a8ef7-62e8-4c90-b4d8-842a64b6b2d6"
      },
      "execution_count": 2,
      "outputs": [
        {
          "output_type": "execute_result",
          "data": {
            "text/plain": [
              "   fixed acidity  volatile acidity  citric acid  residual sugar  chlorides  \\\n",
              "0            7.4              0.70         0.00             1.9      0.076   \n",
              "1            7.8              0.88         0.00             2.6      0.098   \n",
              "2            7.8              0.76         0.04             2.3      0.092   \n",
              "3           11.2              0.28         0.56             1.9      0.075   \n",
              "4            7.4              0.70         0.00             1.9      0.076   \n",
              "\n",
              "   free sulfur dioxide  total sulfur dioxide  density    pH  sulphates  \\\n",
              "0                 11.0                  34.0   0.9978  3.51       0.56   \n",
              "1                 25.0                  67.0   0.9968  3.20       0.68   \n",
              "2                 15.0                  54.0   0.9970  3.26       0.65   \n",
              "3                 17.0                  60.0   0.9980  3.16       0.58   \n",
              "4                 11.0                  34.0   0.9978  3.51       0.56   \n",
              "\n",
              "   alcohol  quality  \n",
              "0      9.4        5  \n",
              "1      9.8        5  \n",
              "2      9.8        5  \n",
              "3      9.8        6  \n",
              "4      9.4        5  "
            ],
            "text/html": [
              "\n",
              "  <div id=\"df-c4d020f2-ef76-447b-abfd-4fc8cffa7cb3\">\n",
              "    <div class=\"colab-df-container\">\n",
              "      <div>\n",
              "<style scoped>\n",
              "    .dataframe tbody tr th:only-of-type {\n",
              "        vertical-align: middle;\n",
              "    }\n",
              "\n",
              "    .dataframe tbody tr th {\n",
              "        vertical-align: top;\n",
              "    }\n",
              "\n",
              "    .dataframe thead th {\n",
              "        text-align: right;\n",
              "    }\n",
              "</style>\n",
              "<table border=\"1\" class=\"dataframe\">\n",
              "  <thead>\n",
              "    <tr style=\"text-align: right;\">\n",
              "      <th></th>\n",
              "      <th>fixed acidity</th>\n",
              "      <th>volatile acidity</th>\n",
              "      <th>citric acid</th>\n",
              "      <th>residual sugar</th>\n",
              "      <th>chlorides</th>\n",
              "      <th>free sulfur dioxide</th>\n",
              "      <th>total sulfur dioxide</th>\n",
              "      <th>density</th>\n",
              "      <th>pH</th>\n",
              "      <th>sulphates</th>\n",
              "      <th>alcohol</th>\n",
              "      <th>quality</th>\n",
              "    </tr>\n",
              "  </thead>\n",
              "  <tbody>\n",
              "    <tr>\n",
              "      <th>0</th>\n",
              "      <td>7.4</td>\n",
              "      <td>0.70</td>\n",
              "      <td>0.00</td>\n",
              "      <td>1.9</td>\n",
              "      <td>0.076</td>\n",
              "      <td>11.0</td>\n",
              "      <td>34.0</td>\n",
              "      <td>0.9978</td>\n",
              "      <td>3.51</td>\n",
              "      <td>0.56</td>\n",
              "      <td>9.4</td>\n",
              "      <td>5</td>\n",
              "    </tr>\n",
              "    <tr>\n",
              "      <th>1</th>\n",
              "      <td>7.8</td>\n",
              "      <td>0.88</td>\n",
              "      <td>0.00</td>\n",
              "      <td>2.6</td>\n",
              "      <td>0.098</td>\n",
              "      <td>25.0</td>\n",
              "      <td>67.0</td>\n",
              "      <td>0.9968</td>\n",
              "      <td>3.20</td>\n",
              "      <td>0.68</td>\n",
              "      <td>9.8</td>\n",
              "      <td>5</td>\n",
              "    </tr>\n",
              "    <tr>\n",
              "      <th>2</th>\n",
              "      <td>7.8</td>\n",
              "      <td>0.76</td>\n",
              "      <td>0.04</td>\n",
              "      <td>2.3</td>\n",
              "      <td>0.092</td>\n",
              "      <td>15.0</td>\n",
              "      <td>54.0</td>\n",
              "      <td>0.9970</td>\n",
              "      <td>3.26</td>\n",
              "      <td>0.65</td>\n",
              "      <td>9.8</td>\n",
              "      <td>5</td>\n",
              "    </tr>\n",
              "    <tr>\n",
              "      <th>3</th>\n",
              "      <td>11.2</td>\n",
              "      <td>0.28</td>\n",
              "      <td>0.56</td>\n",
              "      <td>1.9</td>\n",
              "      <td>0.075</td>\n",
              "      <td>17.0</td>\n",
              "      <td>60.0</td>\n",
              "      <td>0.9980</td>\n",
              "      <td>3.16</td>\n",
              "      <td>0.58</td>\n",
              "      <td>9.8</td>\n",
              "      <td>6</td>\n",
              "    </tr>\n",
              "    <tr>\n",
              "      <th>4</th>\n",
              "      <td>7.4</td>\n",
              "      <td>0.70</td>\n",
              "      <td>0.00</td>\n",
              "      <td>1.9</td>\n",
              "      <td>0.076</td>\n",
              "      <td>11.0</td>\n",
              "      <td>34.0</td>\n",
              "      <td>0.9978</td>\n",
              "      <td>3.51</td>\n",
              "      <td>0.56</td>\n",
              "      <td>9.4</td>\n",
              "      <td>5</td>\n",
              "    </tr>\n",
              "  </tbody>\n",
              "</table>\n",
              "</div>\n",
              "      <button class=\"colab-df-convert\" onclick=\"convertToInteractive('df-c4d020f2-ef76-447b-abfd-4fc8cffa7cb3')\"\n",
              "              title=\"Convert this dataframe to an interactive table.\"\n",
              "              style=\"display:none;\">\n",
              "        \n",
              "  <svg xmlns=\"http://www.w3.org/2000/svg\" height=\"24px\"viewBox=\"0 0 24 24\"\n",
              "       width=\"24px\">\n",
              "    <path d=\"M0 0h24v24H0V0z\" fill=\"none\"/>\n",
              "    <path d=\"M18.56 5.44l.94 2.06.94-2.06 2.06-.94-2.06-.94-.94-2.06-.94 2.06-2.06.94zm-11 1L8.5 8.5l.94-2.06 2.06-.94-2.06-.94L8.5 2.5l-.94 2.06-2.06.94zm10 10l.94 2.06.94-2.06 2.06-.94-2.06-.94-.94-2.06-.94 2.06-2.06.94z\"/><path d=\"M17.41 7.96l-1.37-1.37c-.4-.4-.92-.59-1.43-.59-.52 0-1.04.2-1.43.59L10.3 9.45l-7.72 7.72c-.78.78-.78 2.05 0 2.83L4 21.41c.39.39.9.59 1.41.59.51 0 1.02-.2 1.41-.59l7.78-7.78 2.81-2.81c.8-.78.8-2.07 0-2.86zM5.41 20L4 18.59l7.72-7.72 1.47 1.35L5.41 20z\"/>\n",
              "  </svg>\n",
              "      </button>\n",
              "      \n",
              "  <style>\n",
              "    .colab-df-container {\n",
              "      display:flex;\n",
              "      flex-wrap:wrap;\n",
              "      gap: 12px;\n",
              "    }\n",
              "\n",
              "    .colab-df-convert {\n",
              "      background-color: #E8F0FE;\n",
              "      border: none;\n",
              "      border-radius: 50%;\n",
              "      cursor: pointer;\n",
              "      display: none;\n",
              "      fill: #1967D2;\n",
              "      height: 32px;\n",
              "      padding: 0 0 0 0;\n",
              "      width: 32px;\n",
              "    }\n",
              "\n",
              "    .colab-df-convert:hover {\n",
              "      background-color: #E2EBFA;\n",
              "      box-shadow: 0px 1px 2px rgba(60, 64, 67, 0.3), 0px 1px 3px 1px rgba(60, 64, 67, 0.15);\n",
              "      fill: #174EA6;\n",
              "    }\n",
              "\n",
              "    [theme=dark] .colab-df-convert {\n",
              "      background-color: #3B4455;\n",
              "      fill: #D2E3FC;\n",
              "    }\n",
              "\n",
              "    [theme=dark] .colab-df-convert:hover {\n",
              "      background-color: #434B5C;\n",
              "      box-shadow: 0px 1px 3px 1px rgba(0, 0, 0, 0.15);\n",
              "      filter: drop-shadow(0px 1px 2px rgba(0, 0, 0, 0.3));\n",
              "      fill: #FFFFFF;\n",
              "    }\n",
              "  </style>\n",
              "\n",
              "      <script>\n",
              "        const buttonEl =\n",
              "          document.querySelector('#df-c4d020f2-ef76-447b-abfd-4fc8cffa7cb3 button.colab-df-convert');\n",
              "        buttonEl.style.display =\n",
              "          google.colab.kernel.accessAllowed ? 'block' : 'none';\n",
              "\n",
              "        async function convertToInteractive(key) {\n",
              "          const element = document.querySelector('#df-c4d020f2-ef76-447b-abfd-4fc8cffa7cb3');\n",
              "          const dataTable =\n",
              "            await google.colab.kernel.invokeFunction('convertToInteractive',\n",
              "                                                     [key], {});\n",
              "          if (!dataTable) return;\n",
              "\n",
              "          const docLinkHtml = 'Like what you see? Visit the ' +\n",
              "            '<a target=\"_blank\" href=https://colab.research.google.com/notebooks/data_table.ipynb>data table notebook</a>'\n",
              "            + ' to learn more about interactive tables.';\n",
              "          element.innerHTML = '';\n",
              "          dataTable['output_type'] = 'display_data';\n",
              "          await google.colab.output.renderOutput(dataTable, element);\n",
              "          const docLink = document.createElement('div');\n",
              "          docLink.innerHTML = docLinkHtml;\n",
              "          element.appendChild(docLink);\n",
              "        }\n",
              "      </script>\n",
              "    </div>\n",
              "  </div>\n",
              "  "
            ]
          },
          "metadata": {},
          "execution_count": 2
        }
      ]
    },
    {
      "cell_type": "code",
      "source": [
        "df.info()"
      ],
      "metadata": {
        "colab": {
          "base_uri": "https://localhost:8080/"
        },
        "id": "OOusjBRtE89D",
        "outputId": "955ab56e-e5be-4acb-8e3b-d04faa809ea3"
      },
      "execution_count": 3,
      "outputs": [
        {
          "output_type": "stream",
          "name": "stdout",
          "text": [
            "<class 'pandas.core.frame.DataFrame'>\n",
            "RangeIndex: 1599 entries, 0 to 1598\n",
            "Data columns (total 12 columns):\n",
            " #   Column                Non-Null Count  Dtype  \n",
            "---  ------                --------------  -----  \n",
            " 0   fixed acidity         1599 non-null   float64\n",
            " 1   volatile acidity      1599 non-null   float64\n",
            " 2   citric acid           1599 non-null   float64\n",
            " 3   residual sugar        1599 non-null   float64\n",
            " 4   chlorides             1599 non-null   float64\n",
            " 5   free sulfur dioxide   1599 non-null   float64\n",
            " 6   total sulfur dioxide  1599 non-null   float64\n",
            " 7   density               1599 non-null   float64\n",
            " 8   pH                    1599 non-null   float64\n",
            " 9   sulphates             1599 non-null   float64\n",
            " 10  alcohol               1599 non-null   float64\n",
            " 11  quality               1599 non-null   int64  \n",
            "dtypes: float64(11), int64(1)\n",
            "memory usage: 150.0 KB\n"
          ]
        }
      ]
    },
    {
      "cell_type": "code",
      "source": [
        "df.isna().sum()"
      ],
      "metadata": {
        "colab": {
          "base_uri": "https://localhost:8080/"
        },
        "id": "0S0k5m4eFF0N",
        "outputId": "a5fbc8d4-4dda-45dd-fc63-270af480fdd6"
      },
      "execution_count": 4,
      "outputs": [
        {
          "output_type": "execute_result",
          "data": {
            "text/plain": [
              "fixed acidity           0\n",
              "volatile acidity        0\n",
              "citric acid             0\n",
              "residual sugar          0\n",
              "chlorides               0\n",
              "free sulfur dioxide     0\n",
              "total sulfur dioxide    0\n",
              "density                 0\n",
              "pH                      0\n",
              "sulphates               0\n",
              "alcohol                 0\n",
              "quality                 0\n",
              "dtype: int64"
            ]
          },
          "metadata": {},
          "execution_count": 4
        }
      ]
    },
    {
      "cell_type": "code",
      "source": [
        "df.describe()\n",
        "# density 25% - 75% are 0.99, not much help for wine\n"
      ],
      "metadata": {
        "colab": {
          "base_uri": "https://localhost:8080/",
          "height": 399
        },
        "id": "813591lCPboM",
        "outputId": "be30700e-7e45-4c26-e0e3-23bef80c0736"
      },
      "execution_count": 5,
      "outputs": [
        {
          "output_type": "execute_result",
          "data": {
            "text/plain": [
              "       fixed acidity  volatile acidity  citric acid  residual sugar  \\\n",
              "count    1599.000000       1599.000000  1599.000000     1599.000000   \n",
              "mean        8.319637          0.527821     0.270976        2.538806   \n",
              "std         1.741096          0.179060     0.194801        1.409928   \n",
              "min         4.600000          0.120000     0.000000        0.900000   \n",
              "25%         7.100000          0.390000     0.090000        1.900000   \n",
              "50%         7.900000          0.520000     0.260000        2.200000   \n",
              "75%         9.200000          0.640000     0.420000        2.600000   \n",
              "max        15.900000          1.580000     1.000000       15.500000   \n",
              "\n",
              "         chlorides  free sulfur dioxide  total sulfur dioxide      density  \\\n",
              "count  1599.000000          1599.000000           1599.000000  1599.000000   \n",
              "mean      0.087467            15.874922             46.467792     0.996747   \n",
              "std       0.047065            10.460157             32.895324     0.001887   \n",
              "min       0.012000             1.000000              6.000000     0.990070   \n",
              "25%       0.070000             7.000000             22.000000     0.995600   \n",
              "50%       0.079000            14.000000             38.000000     0.996750   \n",
              "75%       0.090000            21.000000             62.000000     0.997835   \n",
              "max       0.611000            72.000000            289.000000     1.003690   \n",
              "\n",
              "                pH    sulphates      alcohol      quality  \n",
              "count  1599.000000  1599.000000  1599.000000  1599.000000  \n",
              "mean      3.311113     0.658149    10.422983     5.636023  \n",
              "std       0.154386     0.169507     1.065668     0.807569  \n",
              "min       2.740000     0.330000     8.400000     3.000000  \n",
              "25%       3.210000     0.550000     9.500000     5.000000  \n",
              "50%       3.310000     0.620000    10.200000     6.000000  \n",
              "75%       3.400000     0.730000    11.100000     6.000000  \n",
              "max       4.010000     2.000000    14.900000     8.000000  "
            ],
            "text/html": [
              "\n",
              "  <div id=\"df-9508b0e6-54f4-4c3b-83e4-61b7a00756f1\">\n",
              "    <div class=\"colab-df-container\">\n",
              "      <div>\n",
              "<style scoped>\n",
              "    .dataframe tbody tr th:only-of-type {\n",
              "        vertical-align: middle;\n",
              "    }\n",
              "\n",
              "    .dataframe tbody tr th {\n",
              "        vertical-align: top;\n",
              "    }\n",
              "\n",
              "    .dataframe thead th {\n",
              "        text-align: right;\n",
              "    }\n",
              "</style>\n",
              "<table border=\"1\" class=\"dataframe\">\n",
              "  <thead>\n",
              "    <tr style=\"text-align: right;\">\n",
              "      <th></th>\n",
              "      <th>fixed acidity</th>\n",
              "      <th>volatile acidity</th>\n",
              "      <th>citric acid</th>\n",
              "      <th>residual sugar</th>\n",
              "      <th>chlorides</th>\n",
              "      <th>free sulfur dioxide</th>\n",
              "      <th>total sulfur dioxide</th>\n",
              "      <th>density</th>\n",
              "      <th>pH</th>\n",
              "      <th>sulphates</th>\n",
              "      <th>alcohol</th>\n",
              "      <th>quality</th>\n",
              "    </tr>\n",
              "  </thead>\n",
              "  <tbody>\n",
              "    <tr>\n",
              "      <th>count</th>\n",
              "      <td>1599.000000</td>\n",
              "      <td>1599.000000</td>\n",
              "      <td>1599.000000</td>\n",
              "      <td>1599.000000</td>\n",
              "      <td>1599.000000</td>\n",
              "      <td>1599.000000</td>\n",
              "      <td>1599.000000</td>\n",
              "      <td>1599.000000</td>\n",
              "      <td>1599.000000</td>\n",
              "      <td>1599.000000</td>\n",
              "      <td>1599.000000</td>\n",
              "      <td>1599.000000</td>\n",
              "    </tr>\n",
              "    <tr>\n",
              "      <th>mean</th>\n",
              "      <td>8.319637</td>\n",
              "      <td>0.527821</td>\n",
              "      <td>0.270976</td>\n",
              "      <td>2.538806</td>\n",
              "      <td>0.087467</td>\n",
              "      <td>15.874922</td>\n",
              "      <td>46.467792</td>\n",
              "      <td>0.996747</td>\n",
              "      <td>3.311113</td>\n",
              "      <td>0.658149</td>\n",
              "      <td>10.422983</td>\n",
              "      <td>5.636023</td>\n",
              "    </tr>\n",
              "    <tr>\n",
              "      <th>std</th>\n",
              "      <td>1.741096</td>\n",
              "      <td>0.179060</td>\n",
              "      <td>0.194801</td>\n",
              "      <td>1.409928</td>\n",
              "      <td>0.047065</td>\n",
              "      <td>10.460157</td>\n",
              "      <td>32.895324</td>\n",
              "      <td>0.001887</td>\n",
              "      <td>0.154386</td>\n",
              "      <td>0.169507</td>\n",
              "      <td>1.065668</td>\n",
              "      <td>0.807569</td>\n",
              "    </tr>\n",
              "    <tr>\n",
              "      <th>min</th>\n",
              "      <td>4.600000</td>\n",
              "      <td>0.120000</td>\n",
              "      <td>0.000000</td>\n",
              "      <td>0.900000</td>\n",
              "      <td>0.012000</td>\n",
              "      <td>1.000000</td>\n",
              "      <td>6.000000</td>\n",
              "      <td>0.990070</td>\n",
              "      <td>2.740000</td>\n",
              "      <td>0.330000</td>\n",
              "      <td>8.400000</td>\n",
              "      <td>3.000000</td>\n",
              "    </tr>\n",
              "    <tr>\n",
              "      <th>25%</th>\n",
              "      <td>7.100000</td>\n",
              "      <td>0.390000</td>\n",
              "      <td>0.090000</td>\n",
              "      <td>1.900000</td>\n",
              "      <td>0.070000</td>\n",
              "      <td>7.000000</td>\n",
              "      <td>22.000000</td>\n",
              "      <td>0.995600</td>\n",
              "      <td>3.210000</td>\n",
              "      <td>0.550000</td>\n",
              "      <td>9.500000</td>\n",
              "      <td>5.000000</td>\n",
              "    </tr>\n",
              "    <tr>\n",
              "      <th>50%</th>\n",
              "      <td>7.900000</td>\n",
              "      <td>0.520000</td>\n",
              "      <td>0.260000</td>\n",
              "      <td>2.200000</td>\n",
              "      <td>0.079000</td>\n",
              "      <td>14.000000</td>\n",
              "      <td>38.000000</td>\n",
              "      <td>0.996750</td>\n",
              "      <td>3.310000</td>\n",
              "      <td>0.620000</td>\n",
              "      <td>10.200000</td>\n",
              "      <td>6.000000</td>\n",
              "    </tr>\n",
              "    <tr>\n",
              "      <th>75%</th>\n",
              "      <td>9.200000</td>\n",
              "      <td>0.640000</td>\n",
              "      <td>0.420000</td>\n",
              "      <td>2.600000</td>\n",
              "      <td>0.090000</td>\n",
              "      <td>21.000000</td>\n",
              "      <td>62.000000</td>\n",
              "      <td>0.997835</td>\n",
              "      <td>3.400000</td>\n",
              "      <td>0.730000</td>\n",
              "      <td>11.100000</td>\n",
              "      <td>6.000000</td>\n",
              "    </tr>\n",
              "    <tr>\n",
              "      <th>max</th>\n",
              "      <td>15.900000</td>\n",
              "      <td>1.580000</td>\n",
              "      <td>1.000000</td>\n",
              "      <td>15.500000</td>\n",
              "      <td>0.611000</td>\n",
              "      <td>72.000000</td>\n",
              "      <td>289.000000</td>\n",
              "      <td>1.003690</td>\n",
              "      <td>4.010000</td>\n",
              "      <td>2.000000</td>\n",
              "      <td>14.900000</td>\n",
              "      <td>8.000000</td>\n",
              "    </tr>\n",
              "  </tbody>\n",
              "</table>\n",
              "</div>\n",
              "      <button class=\"colab-df-convert\" onclick=\"convertToInteractive('df-9508b0e6-54f4-4c3b-83e4-61b7a00756f1')\"\n",
              "              title=\"Convert this dataframe to an interactive table.\"\n",
              "              style=\"display:none;\">\n",
              "        \n",
              "  <svg xmlns=\"http://www.w3.org/2000/svg\" height=\"24px\"viewBox=\"0 0 24 24\"\n",
              "       width=\"24px\">\n",
              "    <path d=\"M0 0h24v24H0V0z\" fill=\"none\"/>\n",
              "    <path d=\"M18.56 5.44l.94 2.06.94-2.06 2.06-.94-2.06-.94-.94-2.06-.94 2.06-2.06.94zm-11 1L8.5 8.5l.94-2.06 2.06-.94-2.06-.94L8.5 2.5l-.94 2.06-2.06.94zm10 10l.94 2.06.94-2.06 2.06-.94-2.06-.94-.94-2.06-.94 2.06-2.06.94z\"/><path d=\"M17.41 7.96l-1.37-1.37c-.4-.4-.92-.59-1.43-.59-.52 0-1.04.2-1.43.59L10.3 9.45l-7.72 7.72c-.78.78-.78 2.05 0 2.83L4 21.41c.39.39.9.59 1.41.59.51 0 1.02-.2 1.41-.59l7.78-7.78 2.81-2.81c.8-.78.8-2.07 0-2.86zM5.41 20L4 18.59l7.72-7.72 1.47 1.35L5.41 20z\"/>\n",
              "  </svg>\n",
              "      </button>\n",
              "      \n",
              "  <style>\n",
              "    .colab-df-container {\n",
              "      display:flex;\n",
              "      flex-wrap:wrap;\n",
              "      gap: 12px;\n",
              "    }\n",
              "\n",
              "    .colab-df-convert {\n",
              "      background-color: #E8F0FE;\n",
              "      border: none;\n",
              "      border-radius: 50%;\n",
              "      cursor: pointer;\n",
              "      display: none;\n",
              "      fill: #1967D2;\n",
              "      height: 32px;\n",
              "      padding: 0 0 0 0;\n",
              "      width: 32px;\n",
              "    }\n",
              "\n",
              "    .colab-df-convert:hover {\n",
              "      background-color: #E2EBFA;\n",
              "      box-shadow: 0px 1px 2px rgba(60, 64, 67, 0.3), 0px 1px 3px 1px rgba(60, 64, 67, 0.15);\n",
              "      fill: #174EA6;\n",
              "    }\n",
              "\n",
              "    [theme=dark] .colab-df-convert {\n",
              "      background-color: #3B4455;\n",
              "      fill: #D2E3FC;\n",
              "    }\n",
              "\n",
              "    [theme=dark] .colab-df-convert:hover {\n",
              "      background-color: #434B5C;\n",
              "      box-shadow: 0px 1px 3px 1px rgba(0, 0, 0, 0.15);\n",
              "      filter: drop-shadow(0px 1px 2px rgba(0, 0, 0, 0.3));\n",
              "      fill: #FFFFFF;\n",
              "    }\n",
              "  </style>\n",
              "\n",
              "      <script>\n",
              "        const buttonEl =\n",
              "          document.querySelector('#df-9508b0e6-54f4-4c3b-83e4-61b7a00756f1 button.colab-df-convert');\n",
              "        buttonEl.style.display =\n",
              "          google.colab.kernel.accessAllowed ? 'block' : 'none';\n",
              "\n",
              "        async function convertToInteractive(key) {\n",
              "          const element = document.querySelector('#df-9508b0e6-54f4-4c3b-83e4-61b7a00756f1');\n",
              "          const dataTable =\n",
              "            await google.colab.kernel.invokeFunction('convertToInteractive',\n",
              "                                                     [key], {});\n",
              "          if (!dataTable) return;\n",
              "\n",
              "          const docLinkHtml = 'Like what you see? Visit the ' +\n",
              "            '<a target=\"_blank\" href=https://colab.research.google.com/notebooks/data_table.ipynb>data table notebook</a>'\n",
              "            + ' to learn more about interactive tables.';\n",
              "          element.innerHTML = '';\n",
              "          dataTable['output_type'] = 'display_data';\n",
              "          await google.colab.output.renderOutput(dataTable, element);\n",
              "          const docLink = document.createElement('div');\n",
              "          docLink.innerHTML = docLinkHtml;\n",
              "          element.appendChild(docLink);\n",
              "        }\n",
              "      </script>\n",
              "    </div>\n",
              "  </div>\n",
              "  "
            ]
          },
          "metadata": {},
          "execution_count": 5
        }
      ]
    },
    {
      "cell_type": "code",
      "source": [
        "import seaborn as sns\n",
        "import matplotlib.pyplot as plt\n",
        "corr = df.corr()\n",
        "sns.heatmap(corr, annot=True, fmt='.2f',  cmap='coolwarm')\n",
        "plt.show()"
      ],
      "metadata": {
        "colab": {
          "base_uri": "https://localhost:8080/",
          "height": 552
        },
        "id": "0w7s_RRSIzTr",
        "outputId": "0e05171d-a25e-4cc1-d69f-334619bd0ca7"
      },
      "execution_count": 6,
      "outputs": [
        {
          "output_type": "display_data",
          "data": {
            "text/plain": [
              "<Figure size 640x480 with 2 Axes>"
            ],
            "image/png": "[encoded data removed]"
          },
          "metadata": {}
        }
      ]
    },
    {
      "cell_type": "code",
      "source": [
        "df.drop('density', axis=1, inplace=True)"
      ],
      "metadata": {
        "id": "ntnTbsT37sHd"
      },
      "execution_count": 7,
      "outputs": []
    },
    {
      "cell_type": "code",
      "source": [
        "import matplotlib.pyplot as plt\n",
        "\n",
        "plt.hist(df['quality'], range=(3, 9), bins=6, alpha=0.5, align='left', rwidth=0.6)\n",
        "plt.xlabel('quality ')\n",
        "plt.ylabel('counts')\n",
        "plt.show()"
      ],
      "metadata": {
        "colab": {
          "base_uri": "https://localhost:8080/",
          "height": 449
        },
        "id": "d1ZTq4cwFRQt",
        "outputId": "113eb6e9-1c73-4b72-aef2-55903a7795b5"
      },
      "execution_count": 8,
      "outputs": [
        {
          "output_type": "display_data",
          "data": {
            "text/plain": [
              "<Figure size 640x480 with 1 Axes>"
            ],
            "image/png": "[encoded data removed]"
          },
          "metadata": {}
        }
      ]
    },
    {
      "cell_type": "code",
      "source": [
        "bins = (0, 2, 4 ,8, 10)\n",
        "group = ['so bad', 'bad', 'good', 'so good']\n",
        "data = [1, 2, 3, 4, 5, 6, 7, 8, 9, 10]\n",
        "result = pd.cut(data, bins=bins, labels=group)\n",
        "print(result)"
      ],
      "metadata": {
        "colab": {
          "base_uri": "https://localhost:8080/"
        },
        "id": "a3JF3WCF8oe9",
        "outputId": "1f5b4495-0634-4bcf-ef27-c0ab6a89d07b"
      },
      "execution_count": 9,
      "outputs": [
        {
          "output_type": "stream",
          "name": "stdout",
          "text": [
            "['so bad', 'so bad', 'bad', 'bad', 'good', 'good', 'good', 'good', 'so good', 'so good']\n",
            "Categories (4, object): ['so bad' < 'bad' < 'good' < 'so good']\n"
          ]
        }
      ]
    },
    {
      "cell_type": "code",
      "source": [
        "bins = (2, 6.5, 8)\n",
        "group_names = ['bad', 'good']\n",
        "df['quality'] = pd.cut(df['quality'], bins = bins, labels = group_names)\n",
        "df.head()"
      ],
      "metadata": {
        "colab": {
          "base_uri": "https://localhost:8080/",
          "height": 267
        },
        "id": "Rsvu0T-R72PZ",
        "outputId": "890dbe7d-0329-48db-c1a2-4453f664fdae"
      },
      "execution_count": 10,
      "outputs": [
        {
          "output_type": "execute_result",
          "data": {
            "text/plain": [
              "   fixed acidity  volatile acidity  citric acid  residual sugar  chlorides  \\\n",
              "0            7.4              0.70         0.00             1.9      0.076   \n",
              "1            7.8              0.88         0.00             2.6      0.098   \n",
              "2            7.8              0.76         0.04             2.3      0.092   \n",
              "3           11.2              0.28         0.56             1.9      0.075   \n",
              "4            7.4              0.70         0.00             1.9      0.076   \n",
              "\n",
              "   free sulfur dioxide  total sulfur dioxide    pH  sulphates  alcohol quality  \n",
              "0                 11.0                  34.0  3.51       0.56      9.4     bad  \n",
              "1                 25.0                  67.0  3.20       0.68      9.8     bad  \n",
              "2                 15.0                  54.0  3.26       0.65      9.8     bad  \n",
              "3                 17.0                  60.0  3.16       0.58      9.8     bad  \n",
              "4                 11.0                  34.0  3.51       0.56      9.4     bad  "
            ],
            "text/html": [
              "\n",
              "  <div id=\"df-e444a00e-e080-4817-8bd0-96429b182a22\">\n",
              "    <div class=\"colab-df-container\">\n",
              "      <div>\n",
              "<style scoped>\n",
              "    .dataframe tbody tr th:only-of-type {\n",
              "        vertical-align: middle;\n",
              "    }\n",
              "\n",
              "    .dataframe tbody tr th {\n",
              "        vertical-align: top;\n",
              "    }\n",
              "\n",
              "    .dataframe thead th {\n",
              "        text-align: right;\n",
              "    }\n",
              "</style>\n",
              "<table border=\"1\" class=\"dataframe\">\n",
              "  <thead>\n",
              "    <tr style=\"text-align: right;\">\n",
              "      <th></th>\n",
              "      <th>fixed acidity</th>\n",
              "      <th>volatile acidity</th>\n",
              "      <th>citric acid</th>\n",
              "      <th>residual sugar</th>\n",
              "      <th>chlorides</th>\n",
              "      <th>free sulfur dioxide</th>\n",
              "      <th>total sulfur dioxide</th>\n",
              "      <th>pH</th>\n",
              "      <th>sulphates</th>\n",
              "      <th>alcohol</th>\n",
              "      <th>quality</th>\n",
              "    </tr>\n",
              "  </thead>\n",
              "  <tbody>\n",
              "    <tr>\n",
              "      <th>0</th>\n",
              "      <td>7.4</td>\n",
              "      <td>0.70</td>\n",
              "      <td>0.00</td>\n",
              "      <td>1.9</td>\n",
              "      <td>0.076</td>\n",
              "      <td>11.0</td>\n",
              "      <td>34.0</td>\n",
              "      <td>3.51</td>\n",
              "      <td>0.56</td>\n",
              "      <td>9.4</td>\n",
              "      <td>bad</td>\n",
              "    </tr>\n",
              "    <tr>\n",
              "      <th>1</th>\n",
              "      <td>7.8</td>\n",
              "      <td>0.88</td>\n",
              "      <td>0.00</td>\n",
              "      <td>2.6</td>\n",
              "      <td>0.098</td>\n",
              "      <td>25.0</td>\n",
              "      <td>67.0</td>\n",
              "      <td>3.20</td>\n",
              "      <td>0.68</td>\n",
              "      <td>9.8</td>\n",
              "      <td>bad</td>\n",
              "    </tr>\n",
              "    <tr>\n",
              "      <th>2</th>\n",
              "      <td>7.8</td>\n",
              "      <td>0.76</td>\n",
              "      <td>0.04</td>\n",
              "      <td>2.3</td>\n",
              "      <td>0.092</td>\n",
              "      <td>15.0</td>\n",
              "      <td>54.0</td>\n",
              "      <td>3.26</td>\n",
              "      <td>0.65</td>\n",
              "      <td>9.8</td>\n",
              "      <td>bad</td>\n",
              "    </tr>\n",
              "    <tr>\n",
              "      <th>3</th>\n",
              "      <td>11.2</td>\n",
              "      <td>0.28</td>\n",
              "      <td>0.56</td>\n",
              "      <td>1.9</td>\n",
              "      <td>0.075</td>\n",
              "      <td>17.0</td>\n",
              "      <td>60.0</td>\n",
              "      <td>3.16</td>\n",
              "      <td>0.58</td>\n",
              "      <td>9.8</td>\n",
              "      <td>bad</td>\n",
              "    </tr>\n",
              "    <tr>\n",
              "      <th>4</th>\n",
              "      <td>7.4</td>\n",
              "      <td>0.70</td>\n",
              "      <td>0.00</td>\n",
              "      <td>1.9</td>\n",
              "      <td>0.076</td>\n",
              "      <td>11.0</td>\n",
              "      <td>34.0</td>\n",
              "      <td>3.51</td>\n",
              "      <td>0.56</td>\n",
              "      <td>9.4</td>\n",
              "      <td>bad</td>\n",
              "    </tr>\n",
              "  </tbody>\n",
              "</table>\n",
              "</div>\n",
              "      <button class=\"colab-df-convert\" onclick=\"convertToInteractive('df-e444a00e-e080-4817-8bd0-96429b182a22')\"\n",
              "              title=\"Convert this dataframe to an interactive table.\"\n",
              "              style=\"display:none;\">\n",
              "        \n",
              "  <svg xmlns=\"http://www.w3.org/2000/svg\" height=\"24px\"viewBox=\"0 0 24 24\"\n",
              "       width=\"24px\">\n",
              "    <path d=\"M0 0h24v24H0V0z\" fill=\"none\"/>\n",
              "    <path d=\"M18.56 5.44l.94 2.06.94-2.06 2.06-.94-2.06-.94-.94-2.06-.94 2.06-2.06.94zm-11 1L8.5 8.5l.94-2.06 2.06-.94-2.06-.94L8.5 2.5l-.94 2.06-2.06.94zm10 10l.94 2.06.94-2.06 2.06-.94-2.06-.94-.94-2.06-.94 2.06-2.06.94z\"/><path d=\"M17.41 7.96l-1.37-1.37c-.4-.4-.92-.59-1.43-.59-.52 0-1.04.2-1.43.59L10.3 9.45l-7.72 7.72c-.78.78-.78 2.05 0 2.83L4 21.41c.39.39.9.59 1.41.59.51 0 1.02-.2 1.41-.59l7.78-7.78 2.81-2.81c.8-.78.8-2.07 0-2.86zM5.41 20L4 18.59l7.72-7.72 1.47 1.35L5.41 20z\"/>\n",
              "  </svg>\n",
              "      </button>\n",
              "      \n",
              "  <style>\n",
              "    .colab-df-container {\n",
              "      display:flex;\n",
              "      flex-wrap:wrap;\n",
              "      gap: 12px;\n",
              "    }\n",
              "\n",
              "    .colab-df-convert {\n",
              "      background-color: #E8F0FE;\n",
              "      border: none;\n",
              "      border-radius: 50%;\n",
              "      cursor: pointer;\n",
              "      display: none;\n",
              "      fill: #1967D2;\n",
              "      height: 32px;\n",
              "      padding: 0 0 0 0;\n",
              "      width: 32px;\n",
              "    }\n",
              "\n",
              "    .colab-df-convert:hover {\n",
              "      background-color: #E2EBFA;\n",
              "      box-shadow: 0px 1px 2px rgba(60, 64, 67, 0.3), 0px 1px 3px 1px rgba(60, 64, 67, 0.15);\n",
              "      fill: #174EA6;\n",
              "    }\n",
              "\n",
              "    [theme=dark] .colab-df-convert {\n",
              "      background-color: #3B4455;\n",
              "      fill: #D2E3FC;\n",
              "    }\n",
              "\n",
              "    [theme=dark] .colab-df-convert:hover {\n",
              "      background-color: #434B5C;\n",
              "      box-shadow: 0px 1px 3px 1px rgba(0, 0, 0, 0.15);\n",
              "      filter: drop-shadow(0px 1px 2px rgba(0, 0, 0, 0.3));\n",
              "      fill: #FFFFFF;\n",
              "    }\n",
              "  </style>\n",
              "\n",
              "      <script>\n",
              "        const buttonEl =\n",
              "          document.querySelector('#df-e444a00e-e080-4817-8bd0-96429b182a22 button.colab-df-convert');\n",
              "        buttonEl.style.display =\n",
              "          google.colab.kernel.accessAllowed ? 'block' : 'none';\n",
              "\n",
              "        async function convertToInteractive(key) {\n",
              "          const element = document.querySelector('#df-e444a00e-e080-4817-8bd0-96429b182a22');\n",
              "          const dataTable =\n",
              "            await google.colab.kernel.invokeFunction('convertToInteractive',\n",
              "                                                     [key], {});\n",
              "          if (!dataTable) return;\n",
              "\n",
              "          const docLinkHtml = 'Like what you see? Visit the ' +\n",
              "            '<a target=\"_blank\" href=https://colab.research.google.com/notebooks/data_table.ipynb>data table notebook</a>'\n",
              "            + ' to learn more about interactive tables.';\n",
              "          element.innerHTML = '';\n",
              "          dataTable['output_type'] = 'display_data';\n",
              "          await google.colab.output.renderOutput(dataTable, element);\n",
              "          const docLink = document.createElement('div');\n",
              "          docLink.innerHTML = docLinkHtml;\n",
              "          element.appendChild(docLink);\n",
              "        }\n",
              "      </script>\n",
              "    </div>\n",
              "  </div>\n",
              "  "
            ]
          },
          "metadata": {},
          "execution_count": 10
        }
      ]
    },
    {
      "cell_type": "code",
      "source": [
        "df['quality'] = df['quality'].map({'bad':0, 'good':1})"
      ],
      "metadata": {
        "id": "6403A2SI8Z0c"
      },
      "execution_count": 11,
      "outputs": []
    },
    {
      "cell_type": "code",
      "source": [
        "df['quality'].value_counts()"
      ],
      "metadata": {
        "colab": {
          "base_uri": "https://localhost:8080/"
        },
        "id": "5v1ShGAnM4kv",
        "outputId": "a35df4cb-cc31-4174-b026-cff2dcdd4b4b"
      },
      "execution_count": 12,
      "outputs": [
        {
          "output_type": "execute_result",
          "data": {
            "text/plain": [
              "0    1382\n",
              "1     217\n",
              "Name: quality, dtype: int64"
            ]
          },
          "metadata": {},
          "execution_count": 12
        }
      ]
    },
    {
      "cell_type": "code",
      "source": [
        "# standard\n",
        "from sklearn.preprocessing import StandardScaler\n",
        "# from sklearn.pipeline import Pipeline\n",
        "std = StandardScaler()\n",
        "feature_columns = df.columns.difference([\"quality\"])\n",
        "df[feature_columns] = std.fit_transform(df[feature_columns])"
      ],
      "metadata": {
        "id": "TZIc7YPzL29n"
      },
      "execution_count": 13,
      "outputs": []
    },
    {
      "cell_type": "markdown",
      "source": [
        "# evaluate and compare model"
      ],
      "metadata": {
        "id": "gkjgFiVP_hD_"
      }
    },
    {
      "cell_type": "code",
      "source": [
        "from sklearn.model_selection import cross_val_score\n",
        "def eval(clf, train_X, train_y):\n",
        "  score = cross_val_score(clf, train_X, train_y, cv=5, scoring='accuracy').mean()\n",
        "  print(f'{clf} accuracy : {score}')\n",
        "  return score"
      ],
      "metadata": {
        "id": "xY9CdedM_0ze"
      },
      "execution_count": 14,
      "outputs": []
    },
    {
      "cell_type": "code",
      "source": [
        "from sklearn.model_selection import cross_val_score\n",
        "from sklearn.model_selection import train_test_split\n",
        "from sklearn.ensemble import RandomForestClassifier\n",
        "from sklearn.tree import DecisionTreeClassifier\n",
        "from sklearn.svm import SVC\n",
        "from sklearn.naive_bayes import GaussianNB\n",
        "from sklearn.neighbors import KNeighborsClassifier\n",
        "\n",
        "X_train = df.drop('quality', axis = 1)\n",
        "y_train = df['quality']\n",
        "\n",
        "\n",
        "\n",
        "# X_train, X_test, y_train, y_test = train_test_split(X, y, test_size = 0.2, random_state = 42)\n",
        "rfc = RandomForestClassifier(n_estimators=200)\n",
        "score1 = eval(rfc, X_train, y_train)\n",
        "\n",
        "tree_clf = DecisionTreeClassifier()\n",
        "score2 = eval(tree_clf, X_train, y_train)\n",
        "\n",
        "svm_clf = SVC(random_state=42)\n",
        "score3 = eval(svm_clf, X_train, y_train)\n",
        "\n",
        "navie_clf = GaussianNB()\n",
        "score4 = eval(navie_clf, X_train, y_train)\n",
        "\n",
        "KNN_clf = KNeighborsClassifier()\n",
        "score5 = eval(KNN_clf, X_train, y_train)"
      ],
      "metadata": {
        "colab": {
          "base_uri": "https://localhost:8080/"
        },
        "id": "CUqehJoPHw7U",
        "outputId": "1db607dc-ee86-4119-968b-12d9679fe1cb"
      },
      "execution_count": 15,
      "outputs": [
        {
          "output_type": "stream",
          "name": "stdout",
          "text": [
            "RandomForestClassifier(n_estimators=200) accuracy : 0.8755485893416928\n",
            "DecisionTreeClassifier() accuracy : 0.8004917711598747\n",
            "SVC(random_state=42) accuracy : 0.8724216300940439\n",
            "GaussianNB() accuracy : 0.8130387931034482\n",
            "KNeighborsClassifier() accuracy : 0.8499157523510972\n"
          ]
        }
      ]
    },
    {
      "cell_type": "code",
      "source": [
        "accuracy = {\n",
        "    'model': ['RandomForestClassifier', 'DecisionTreeClassifier', 'SVC', 'GaussianNB', 'KNeighborsClassifier'],\n",
        "    'accuracy' : [score1, score2, score3, score4, score5]\n",
        "}\n",
        "\n",
        "accuracy_df = pd.DataFrame(accuracy)\n",
        "print(accuracy_df)"
      ],
      "metadata": {
        "colab": {
          "base_uri": "https://localhost:8080/"
        },
        "id": "2bDIbn1XIR9W",
        "outputId": "da4f3819-c0b0-4678-98aa-023e394fc0eb"
      },
      "execution_count": 16,
      "outputs": [
        {
          "output_type": "stream",
          "name": "stdout",
          "text": [
            "                    model  accuracy\n",
            "0  RandomForestClassifier  0.875549\n",
            "1  DecisionTreeClassifier  0.800492\n",
            "2                     SVC  0.872422\n",
            "3              GaussianNB  0.813039\n",
            "4    KNeighborsClassifier  0.849916\n"
          ]
        }
      ]
    },
    {
      "cell_type": "markdown",
      "source": [
        "# pytorch"
      ],
      "metadata": {
        "id": "W-omsdvWGTi5"
      }
    },
    {
      "cell_type": "code",
      "source": [
        "print(X_train.shape)\n",
        "print(y_train.shape)"
      ],
      "metadata": {
        "colab": {
          "base_uri": "https://localhost:8080/"
        },
        "id": "Hwf81B0VGzAJ",
        "outputId": "343d95b5-8371-467d-9f7f-0c26cc2b465f"
      },
      "execution_count": 17,
      "outputs": [
        {
          "output_type": "stream",
          "name": "stdout",
          "text": [
            "(1599, 10)\n",
            "(1599,)\n"
          ]
        }
      ]
    },
    {
      "cell_type": "code",
      "source": [
        "import torch\n",
        "from sklearn.model_selection import train_test_split\n",
        "from sklearn.model_selection import StratifiedShuffleSplit\n",
        "\n",
        "split = StratifiedShuffleSplit(n_splits=5, test_size=0.2)\n",
        "\n",
        "for train_index, test_index in split.split(X_train, y_train):\n",
        "  train_X = X_train.iloc[train_index]\n",
        "  train_y = y_train.iloc[train_index]\n",
        "  test_X = X_train.iloc[test_index]\n",
        "  test_y = y_train.iloc[test_index]"
      ],
      "metadata": {
        "id": "IKkiRO1yKW0E"
      },
      "execution_count": 18,
      "outputs": []
    },
    {
      "cell_type": "code",
      "source": [
        "# from sklearn.preprocessing import StandardScaler\n",
        "# from sklearn.pipeline import Pipeline\n",
        "# std = StandardScaler()\n",
        "# train_X = std.fit_transform(train_X)\n",
        "# train_y = std.fit_transform(train_y)\n",
        "# test_X = std.fit_transform(test_X.values)\n",
        "# test_y = std.fit_transform(test_y.values)"
      ],
      "metadata": {
        "id": "tT4eTlyvS97m"
      },
      "execution_count": 19,
      "outputs": []
    },
    {
      "cell_type": "code",
      "source": [
        "train_y.value_counts()"
      ],
      "metadata": {
        "colab": {
          "base_uri": "https://localhost:8080/"
        },
        "id": "IzP9TL00RvFO",
        "outputId": "cb591278-9e52-4564-f793-41415594d22e"
      },
      "execution_count": 20,
      "outputs": [
        {
          "output_type": "execute_result",
          "data": {
            "text/plain": [
              "0    1105\n",
              "1     174\n",
              "Name: quality, dtype: int64"
            ]
          },
          "metadata": {},
          "execution_count": 20
        }
      ]
    },
    {
      "cell_type": "code",
      "source": [
        "import tensorflow as tf\n",
        "import numpy as np\n",
        "train_y_1hot = tf.keras.utils.to_categorical(train_y, num_classes=2)\n",
        "test_y_1hot = tf.keras.utils.to_categorical(test_y, num_classes=2)"
      ],
      "metadata": {
        "id": "o1daiOrsIK3a"
      },
      "execution_count": 21,
      "outputs": []
    },
    {
      "cell_type": "code",
      "source": [
        "if torch.cuda.is_available():\n",
        "  device = torch.device('cuda')\n",
        "  print(device)\n",
        "else:\n",
        "  device = torch.device('cpu')\n",
        "  print(device)"
      ],
      "metadata": {
        "colab": {
          "base_uri": "https://localhost:8080/"
        },
        "id": "pE9JMaJmNLWp",
        "outputId": "5b6acb7f-4049-40df-8a2a-396c0a3b5fd5"
      },
      "execution_count": 22,
      "outputs": [
        {
          "output_type": "stream",
          "name": "stdout",
          "text": [
            "cpu\n"
          ]
        }
      ]
    },
    {
      "cell_type": "code",
      "source": [
        "X_tensor = torch.tensor(train_X.values, dtype=torch.float32).to(device)\n",
        "y_tensor = torch.tensor(train_y_1hot, dtype=torch.float32).to(device)\n",
        "X_test_tensor = torch.tensor(test_X.values, dtype=torch.float32).to(device)\n",
        "y_test_tensor = torch.tensor(test_y_1hot, dtype=torch.float32).to(device)"
      ],
      "metadata": {
        "id": "WvBcGTMWHWcy"
      },
      "execution_count": 23,
      "outputs": []
    },
    {
      "cell_type": "code",
      "source": [
        "X_tensor.shape"
      ],
      "metadata": {
        "colab": {
          "base_uri": "https://localhost:8080/"
        },
        "id": "aY_beti2FuJt",
        "outputId": "ba47d434-0fc5-4d38-dd3d-573d3389b2ca"
      },
      "execution_count": 24,
      "outputs": [
        {
          "output_type": "execute_result",
          "data": {
            "text/plain": [
              "torch.Size([1279, 10])"
            ]
          },
          "metadata": {},
          "execution_count": 24
        }
      ]
    },
    {
      "cell_type": "code",
      "source": [
        "y_test_tensor.shape"
      ],
      "metadata": {
        "colab": {
          "base_uri": "https://localhost:8080/"
        },
        "id": "o5l0LO5pFeZa",
        "outputId": "65018d56-d39d-456a-c34f-15e3d2845c23"
      },
      "execution_count": 25,
      "outputs": [
        {
          "output_type": "execute_result",
          "data": {
            "text/plain": [
              "torch.Size([320, 2])"
            ]
          },
          "metadata": {},
          "execution_count": 25
        }
      ]
    },
    {
      "cell_type": "code",
      "source": [
        "\n",
        "import torch\n",
        "import torch.nn as nn\n",
        "import torch.nn.functional as F\n",
        "\n",
        "class Linear(nn.Module):\n",
        "  def __init__(self):\n",
        "    super(Linear, self).__init__()\n",
        "    self.Linear = nn.Sequential(\n",
        "          nn.Linear(10, 100),\n",
        "          nn.Linear(100, 200),\n",
        "          nn.Linear(200, 2),\n",
        "        )\n",
        "\n",
        "  def forward(self, x):\n",
        "    x = self.Linear(x)\n",
        "    x = F.sigmoid(x)\n",
        "    return x\n",
        "\n",
        "model = Linear()\n",
        "model.to(device)"
      ],
      "metadata": {
        "colab": {
          "base_uri": "https://localhost:8080/"
        },
        "id": "B_mtfmk9D18P",
        "outputId": "d92a4b76-7cf9-470d-9a6e-a46f40e3e49f"
      },
      "execution_count": 26,
      "outputs": [
        {
          "output_type": "execute_result",
          "data": {
            "text/plain": [
              "Linear(\n",
              "  (Linear): Sequential(\n",
              "    (0): Linear(in_features=10, out_features=100, bias=True)\n",
              "    (1): Linear(in_features=100, out_features=200, bias=True)\n",
              "    (2): Linear(in_features=200, out_features=2, bias=True)\n",
              "  )\n",
              ")"
            ]
          },
          "metadata": {},
          "execution_count": 26
        }
      ]
    },
    {
      "cell_type": "code",
      "source": [
        "loss_fn = nn.CrossEntropyLoss()\n",
        "# optimizer = torch.optim.Adam(model.parameters(), lr=0.05)\n",
        "optimizer = torch.optim.SGD(model.parameters(), lr=0.05, momentum=0.0)\n",
        "epochs = 1000\n",
        "\n",
        "batch_size = 16\n",
        "batch_num = len(X_train)//batch_size\n",
        "\n",
        "train_loss = []\n",
        "test_loss = []\n",
        "for epoch in range(epochs):\n",
        "  for i in range(batch_num):\n",
        "    start = i*batch_size\n",
        "    end = start + batch_size\n",
        "\n",
        "\n",
        "    X = X_tensor[start:end]\n",
        "    y = y_tensor[start:end]\n",
        "\n",
        "\n",
        "    preds = model(X)\n",
        "    loss = loss_fn(preds, y)\n",
        "    optimizer.zero_grad()\n",
        "    loss.backward()\n",
        "    optimizer.step()\n",
        "\n",
        "\n",
        "\n",
        "  loss = loss_fn(model(X_tensor), y_tensor)\n",
        "  train_loss.append(loss.item())\n",
        "  if epoch % 5 == 0:\n",
        "    print(f'epochs : {epoch}, loss : {loss}')\n",
        "  loss = loss_fn(model(X_test_tensor), y_test_tensor)\n",
        "  test_loss.append(loss.item())\n"
      ],
      "metadata": {
        "colab": {
          "base_uri": "https://localhost:8080/"
        },
        "id": "rZMfTQVaIiQC",
        "outputId": "b7a66d3f-2f16-4ada-9e75-b7e95d27915e"
      },
      "execution_count": 27,
      "outputs": [
        {
          "output_type": "stream",
          "name": "stdout",
          "text": [
            "epochs : 0, loss : 0.48548996448516846\n",
            "epochs : 5, loss : 0.4301983118057251\n",
            "epochs : 10, loss : 0.42632874846458435\n",
            "epochs : 15, loss : 0.4249424636363983\n",
            "epochs : 20, loss : 0.42420193552970886\n",
            "epochs : 25, loss : 0.42365896701812744\n",
            "epochs : 30, loss : 0.42311301827430725\n",
            "epochs : 35, loss : 0.4226926863193512\n",
            "epochs : 40, loss : 0.42238226532936096\n",
            "epochs : 45, loss : 0.4221411347389221\n",
            "epochs : 50, loss : 0.4219471514225006\n",
            "epochs : 55, loss : 0.42178672552108765\n",
            "epochs : 60, loss : 0.4216509163379669\n",
            "epochs : 65, loss : 0.42153388261795044\n",
            "epochs : 70, loss : 0.42143142223358154\n",
            "epochs : 75, loss : 0.4213404655456543\n",
            "epochs : 80, loss : 0.42125871777534485\n",
            "epochs : 85, loss : 0.4211842715740204\n",
            "epochs : 90, loss : 0.4211156666278839\n",
            "epochs : 95, loss : 0.421051949262619\n",
            "epochs : 100, loss : 0.4209921061992645\n",
            "epochs : 105, loss : 0.4209355115890503\n",
            "epochs : 110, loss : 0.4208813011646271\n",
            "epochs : 115, loss : 0.4208289086818695\n",
            "epochs : 120, loss : 0.4207773804664612\n",
            "epochs : 125, loss : 0.42072567343711853\n",
            "epochs : 130, loss : 0.4206726551055908\n",
            "epochs : 135, loss : 0.42061689496040344\n",
            "epochs : 140, loss : 0.4205569326877594\n",
            "epochs : 145, loss : 0.4204917550086975\n",
            "epochs : 150, loss : 0.4204199016094208\n",
            "epochs : 155, loss : 0.4203399121761322\n",
            "epochs : 160, loss : 0.4202500879764557\n",
            "epochs : 165, loss : 0.4201512634754181\n",
            "epochs : 170, loss : 0.4200480878353119\n",
            "epochs : 175, loss : 0.4199441969394684\n",
            "epochs : 180, loss : 0.4198400676250458\n",
            "epochs : 185, loss : 0.41973620653152466\n",
            "epochs : 190, loss : 0.4196332097053528\n",
            "epochs : 195, loss : 0.41953185200691223\n",
            "epochs : 200, loss : 0.41943249106407166\n",
            "epochs : 205, loss : 0.41933485865592957\n",
            "epochs : 210, loss : 0.41923803091049194\n",
            "epochs : 215, loss : 0.4191402196884155\n",
            "epochs : 220, loss : 0.41903817653656006\n",
            "epochs : 225, loss : 0.41892752051353455\n",
            "epochs : 230, loss : 0.41880571842193604\n",
            "epochs : 235, loss : 0.4186776578426361\n",
            "epochs : 240, loss : 0.418552428483963\n",
            "epochs : 245, loss : 0.4184349775314331\n",
            "epochs : 250, loss : 0.4183250963687897\n",
            "epochs : 255, loss : 0.41822096705436707\n",
            "epochs : 260, loss : 0.4181216359138489\n",
            "epochs : 265, loss : 0.4180266857147217\n",
            "epochs : 270, loss : 0.41793563961982727\n",
            "epochs : 275, loss : 0.41784805059432983\n",
            "epochs : 280, loss : 0.4177635610103607\n",
            "epochs : 285, loss : 0.4176814556121826\n",
            "epochs : 290, loss : 0.4176012873649597\n",
            "epochs : 295, loss : 0.4175221621990204\n",
            "epochs : 300, loss : 0.41744306683540344\n",
            "epochs : 305, loss : 0.4173625409603119\n",
            "epochs : 310, loss : 0.4172781705856323\n",
            "epochs : 315, loss : 0.41718369722366333\n",
            "epochs : 320, loss : 0.4170566201210022\n",
            "epochs : 325, loss : 0.4168391823768616\n",
            "epochs : 330, loss : 0.41661980748176575\n",
            "epochs : 335, loss : 0.41646257042884827\n",
            "epochs : 340, loss : 0.4163393974304199\n",
            "epochs : 345, loss : 0.41623571515083313\n",
            "epochs : 350, loss : 0.4161438047885895\n",
            "epochs : 355, loss : 0.4160601496696472\n",
            "epochs : 360, loss : 0.41598260402679443\n",
            "epochs : 365, loss : 0.41590991616249084\n",
            "epochs : 370, loss : 0.4158409535884857\n",
            "epochs : 375, loss : 0.41577449440956116\n",
            "epochs : 380, loss : 0.41570907831192017\n",
            "epochs : 385, loss : 0.4156429171562195\n",
            "epochs : 390, loss : 0.41557395458221436\n",
            "epochs : 395, loss : 0.415500283241272\n",
            "epochs : 400, loss : 0.4154203534126282\n",
            "epochs : 405, loss : 0.41533342003822327\n",
            "epochs : 410, loss : 0.4152388274669647\n",
            "epochs : 415, loss : 0.4151359796524048\n",
            "epochs : 420, loss : 0.4150235950946808\n",
            "epochs : 425, loss : 0.4149003028869629\n",
            "epochs : 430, loss : 0.41476675868034363\n",
            "epochs : 435, loss : 0.4146287143230438\n",
            "epochs : 440, loss : 0.41449543833732605\n",
            "epochs : 445, loss : 0.41437315940856934\n",
            "epochs : 450, loss : 0.414262592792511\n",
            "epochs : 455, loss : 0.41416212916374207\n",
            "epochs : 460, loss : 0.4140702188014984\n",
            "epochs : 465, loss : 0.4139856696128845\n",
            "epochs : 470, loss : 0.41390740871429443\n",
            "epochs : 475, loss : 0.41383448243141174\n",
            "epochs : 480, loss : 0.41376620531082153\n",
            "epochs : 485, loss : 0.4137018620967865\n",
            "epochs : 490, loss : 0.4136408269405365\n",
            "epochs : 495, loss : 0.4135827124118805\n",
            "epochs : 500, loss : 0.41352716088294983\n",
            "epochs : 505, loss : 0.4134737253189087\n",
            "epochs : 510, loss : 0.4134223163127899\n",
            "epochs : 515, loss : 0.4133727550506592\n",
            "epochs : 520, loss : 0.4133246839046478\n",
            "epochs : 525, loss : 0.41327816247940063\n",
            "epochs : 530, loss : 0.4132330119609833\n",
            "epochs : 535, loss : 0.41318920254707336\n",
            "epochs : 540, loss : 0.41314664483070374\n",
            "epochs : 545, loss : 0.41310515999794006\n",
            "epochs : 550, loss : 0.4130648970603943\n",
            "epochs : 555, loss : 0.41302570700645447\n",
            "epochs : 560, loss : 0.412987619638443\n",
            "epochs : 565, loss : 0.4129505157470703\n",
            "epochs : 570, loss : 0.4129144251346588\n",
            "epochs : 575, loss : 0.41287925839424133\n",
            "epochs : 580, loss : 0.41284504532814026\n",
            "epochs : 585, loss : 0.4128116965293884\n",
            "epochs : 590, loss : 0.4127792418003082\n",
            "epochs : 595, loss : 0.4127475917339325\n",
            "epochs : 600, loss : 0.4127167761325836\n",
            "epochs : 605, loss : 0.41268670558929443\n",
            "epochs : 610, loss : 0.4126574397087097\n",
            "epochs : 615, loss : 0.4126289486885071\n",
            "epochs : 620, loss : 0.41260117292404175\n",
            "epochs : 625, loss : 0.41257402300834656\n",
            "epochs : 630, loss : 0.41254764795303345\n",
            "epochs : 635, loss : 0.41252195835113525\n",
            "epochs : 640, loss : 0.4124968647956848\n",
            "epochs : 645, loss : 0.4124723970890045\n",
            "epochs : 650, loss : 0.41244861483573914\n",
            "epochs : 655, loss : 0.4124254286289215\n",
            "epochs : 660, loss : 0.41240280866622925\n",
            "epochs : 665, loss : 0.41238075494766235\n",
            "epochs : 670, loss : 0.4123592972755432\n",
            "epochs : 675, loss : 0.41233837604522705\n",
            "epochs : 680, loss : 0.4123179614543915\n",
            "epochs : 685, loss : 0.4122980535030365\n",
            "epochs : 690, loss : 0.4122787415981293\n",
            "epochs : 695, loss : 0.41225987672805786\n",
            "epochs : 700, loss : 0.4122414290904999\n",
            "epochs : 705, loss : 0.4122234880924225\n",
            "epochs : 710, loss : 0.4122059643268585\n",
            "epochs : 715, loss : 0.41218891739845276\n",
            "epochs : 720, loss : 0.41217225790023804\n",
            "epochs : 725, loss : 0.41215604543685913\n",
            "epochs : 730, loss : 0.4121401906013489\n",
            "epochs : 735, loss : 0.41212475299835205\n",
            "epochs : 740, loss : 0.41210970282554626\n",
            "epochs : 745, loss : 0.41209495067596436\n",
            "epochs : 750, loss : 0.41208064556121826\n",
            "epochs : 755, loss : 0.41206660866737366\n",
            "epochs : 760, loss : 0.4120529592037201\n",
            "epochs : 765, loss : 0.4120396077632904\n",
            "epochs : 770, loss : 0.412026584148407\n",
            "epochs : 775, loss : 0.4120138883590698\n",
            "epochs : 780, loss : 0.41200149059295654\n",
            "epochs : 785, loss : 0.4119892716407776\n",
            "epochs : 790, loss : 0.4119774401187897\n",
            "epochs : 795, loss : 0.41196581721305847\n",
            "epochs : 800, loss : 0.41195452213287354\n",
            "epochs : 805, loss : 0.4119434356689453\n",
            "epochs : 810, loss : 0.4119326174259186\n",
            "epochs : 815, loss : 0.41192200779914856\n",
            "epochs : 820, loss : 0.41191166639328003\n",
            "epochs : 825, loss : 0.4119015634059906\n",
            "epochs : 830, loss : 0.4118916094303131\n",
            "epochs : 835, loss : 0.4118819832801819\n",
            "epochs : 840, loss : 0.4118724763393402\n",
            "epochs : 845, loss : 0.4118632376194\n",
            "epochs : 850, loss : 0.41185417771339417\n",
            "epochs : 855, loss : 0.41184529662132263\n",
            "epochs : 860, loss : 0.4118366539478302\n",
            "epochs : 865, loss : 0.41182810068130493\n",
            "epochs : 870, loss : 0.41181984543800354\n",
            "epochs : 875, loss : 0.4118116497993469\n",
            "epochs : 880, loss : 0.4118037223815918\n",
            "epochs : 885, loss : 0.41179588437080383\n",
            "epochs : 890, loss : 0.41178831458091736\n",
            "epochs : 895, loss : 0.41178077459335327\n",
            "epochs : 900, loss : 0.4117734730243683\n",
            "epochs : 905, loss : 0.41176626086235046\n",
            "epochs : 910, loss : 0.41175928711891174\n",
            "epochs : 915, loss : 0.4117524325847626\n",
            "epochs : 920, loss : 0.4117456376552582\n",
            "epochs : 925, loss : 0.4117391109466553\n",
            "epochs : 930, loss : 0.41173267364501953\n",
            "epochs : 935, loss : 0.41172632575035095\n",
            "epochs : 940, loss : 0.4117201566696167\n",
            "epochs : 945, loss : 0.41171419620513916\n",
            "epochs : 950, loss : 0.4117082357406616\n",
            "epochs : 955, loss : 0.4117024540901184\n",
            "epochs : 960, loss : 0.4116968810558319\n",
            "epochs : 965, loss : 0.4116913378238678\n",
            "epochs : 970, loss : 0.4116860032081604\n",
            "epochs : 975, loss : 0.41168075799942017\n",
            "epochs : 980, loss : 0.4116756021976471\n",
            "epochs : 985, loss : 0.41167062520980835\n",
            "epochs : 990, loss : 0.41166576743125916\n",
            "epochs : 995, loss : 0.4116610288619995\n"
          ]
        }
      ]
    },
    {
      "cell_type": "code",
      "source": [
        "import matplotlib.pyplot as plt\n",
        "plt.plot(train_loss, label='train')\n",
        "plt.plot(test_loss, label='test')\n",
        "plt.xlabel('loss history')\n",
        "plt.legend()\n",
        "plt.show()"
      ],
      "metadata": {
        "colab": {
          "base_uri": "https://localhost:8080/",
          "height": 449
        },
        "id": "MU87CLo8M53F",
        "outputId": "0a9174af-35a2-487a-b889-fdc0cd9187a4"
      },
      "execution_count": 28,
      "outputs": [
        {
          "output_type": "display_data",
          "data": {
            "text/plain": [
              "<Figure size 640x480 with 1 Axes>"
            ],
            "image/png": "[encoded data removed]"
          },
          "metadata": {}
        }
      ]
    },
    {
      "cell_type": "code",
      "source": [
        "from sklearn.metrics import accuracy_score\n",
        "preds = model(X_test_tensor)\n",
        "preds = torch.max(preds.data, 1)[1]\n",
        "target = torch.max(y_test_tensor, 1)[1]\n",
        "correct = torch.sum(preds == target)\n",
        "accuracy = 100 * correct / float(len(y_test_tensor))\n",
        "print(accuracy)"
      ],
      "metadata": {
        "colab": {
          "base_uri": "https://localhost:8080/"
        },
        "id": "yd5rG_R7LpAv",
        "outputId": "9ac4b4ff-2c43-4e0d-dc4a-4cecc2faff54"
      },
      "execution_count": 29,
      "outputs": [
        {
          "output_type": "stream",
          "name": "stdout",
          "text": [
            "tensor(87.1875)\n"
          ]
        }
      ]
    },
    {
      "cell_type": "code",
      "source": [
        "from sklearn.metrics import classification_report\n",
        "y_pred = model(X_test_tensor)\n",
        "y_pred = np.where(y_pred.cpu() >= 0.5, 1, 0)\n",
        "print(classification_report(y_test_tensor.cpu(), y_pred))"
      ],
      "metadata": {
        "colab": {
          "base_uri": "https://localhost:8080/"
        },
        "id": "qcNKbmGVM4VW",
        "outputId": "6fd9e230-935e-47c6-a766-120724c2e096"
      },
      "execution_count": 30,
      "outputs": [
        {
          "output_type": "stream",
          "name": "stdout",
          "text": [
            "              precision    recall  f1-score   support\n",
            "\n",
            "           0       0.90      0.96      0.93       277\n",
            "           1       0.49      0.47      0.48        43\n",
            "\n",
            "   micro avg       0.85      0.89      0.87       320\n",
            "   macro avg       0.69      0.71      0.70       320\n",
            "weighted avg       0.84      0.89      0.87       320\n",
            " samples avg       0.86      0.89      0.87       320\n",
            "\n"
          ]
        },
        {
          "output_type": "stream",
          "name": "stderr",
          "text": [
            "/usr/local/lib/python3.10/dist-packages/sklearn/metrics/_classification.py:1344: UndefinedMetricWarning: Precision and F-score are ill-defined and being set to 0.0 in samples with no predicted labels. Use `zero_division` parameter to control this behavior.\n",
            "  _warn_prf(average, modifier, msg_start, len(result))\n"
          ]
        }
      ]
    },
    {
      "cell_type": "code",
      "source": [],
      "metadata": {
        "id": "TMfBgGH6Rn_B"
      },
      "execution_count": 31,
      "outputs": []
    }
  ]
}